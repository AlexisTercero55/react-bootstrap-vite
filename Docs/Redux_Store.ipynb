{
 "cells": [
  {
   "attachments": {},
   "cell_type": "markdown",
   "metadata": {},
   "source": [
    "# `configureStore`"
   ]
  },
  {
   "attachments": {},
   "cell_type": "markdown",
   "metadata": {},
   "source": [
    "As we know Redux Toolkit is a better way to use Redux features for centralized state management of our web apps therefore `configureStore` is \n",
    "\n",
    "<div style=\"color: #b58bf7; text-align: right; font-style: italic;\">\n",
    "A friendly abstraction over the standard Redux createStore function that adds good defaults to the store setup for a better development experience.\n",
    "</div>"
   ]
  },
  {
   "attachments": {},
   "cell_type": "markdown",
   "metadata": {},
   "source": [
    "## <span style=\"color: #b58bf7;\"> Parameters </span>"
   ]
  },
  {
   "attachments": {},
   "cell_type": "markdown",
   "metadata": {},
   "source": [
    "``configureStore`` accepts a single configuration ``object`` parameter, with the following options:"
   ]
  },
  {
   "attachments": {},
   "cell_type": "markdown",
   "metadata": {},
   "source": [
    "### <span style=\"color: #b58bf7;\">``ConfigureStoreOptions`` interface  </span>"
   ]
  },
  {
   "attachments": {},
   "cell_type": "markdown",
   "metadata": {},
   "source": [
    "\n",
    "```ts\n",
    "// Generics interface\n",
    "/**\n",
    " * Options for `configureStore()`.\n",
    " *\n",
    " * @public\n",
    " */\n",
    "interface ConfigureStoreOptions<\n",
    "            S = any,\n",
    "            A extends Action = AnyAction,\n",
    "            M extends Middlewares<S> = Middlewares<S>\n",
    "          > \n",
    "{\n",
    "  /**\n",
    "   * A single REDUCER function that will be used \n",
    "   * as the ROOT REDUCER, \n",
    "   * or an OBJECT of SLICE REDUCERS that will be \n",
    "   * passed to `combineReducers()`.\n",
    "   */\n",
    "  reducer: Reducer<S, A> | ReducersMapObject<S, A>\n",
    "\n",
    "  /**\n",
    "   * An array of Redux middleware to install. If not supplied, defaults to\n",
    "   * the set of middleware returned by `getDefaultMiddleware()`.\n",
    "   */\n",
    "  middleware?: ((getDefaultMiddleware: CurriedGetDefaultMiddleware<S>) => M) | M\n",
    "\n",
    "  /**\n",
    "   * Whether to enable Redux DevTools integration. Defaults to `true`.\n",
    "   *\n",
    "   * Additional configuration can be done by passing Redux DevTools options\n",
    "   */\n",
    "  devTools?: boolean | DevToolsOptions\n",
    "\n",
    "  /**\n",
    "   * The initial state, same as Redux's createStore.\n",
    "   * You may optionally specify it to hydrate the state\n",
    "   * from the server in universal apps, or to restore a previously serialized\n",
    "   * user session. If you use `combineReducers()` to produce the root reducer\n",
    "   * function (either directly or indirectly by passing an object as `reducer`),\n",
    "   * this must be an object with the same shape as the reducer map keys.\n",
    "   */\n",
    "  preloadedState?: DeepPartial<S extends any ? S : S>\n",
    "\n",
    "  /**\n",
    "   * The store enhancers to apply. See Redux's `createStore()`.\n",
    "   * All enhancers will be included before the DevTools Extension enhancer.\n",
    "   * If you need to customize the order of enhancers, supply a callback\n",
    "   * function that will receive the original array (ie, `[applyMiddleware]`),\n",
    "   * and should return a new array (such as `[applyMiddleware, offline]`).\n",
    "   * If you only need to add middleware, you can use the `middleware` parameter instead.\n",
    "   */\n",
    "  enhancers?: StoreEnhancer[] | ConfigureEnhancersCallback\n",
    "}\n",
    "```\n"
   ]
  },
  {
   "attachments": {},
   "cell_type": "markdown",
   "metadata": {},
   "source": [
    "### <span style=\"color: #b58bf7;\">devTools</span>"
   ]
  },
  {
   "attachments": {},
   "cell_type": "markdown",
   "metadata": {},
   "source": [
    "![Alt text](../public/gifs/Redux_devTools_tests.gif)"
   ]
  },
  {
   "attachments": {},
   "cell_type": "markdown",
   "metadata": {},
   "source": [
    "## <span style=\"color: #b58bf7;\"> ``configureStore ``prototype </span>"
   ]
  },
  {
   "attachments": {},
   "cell_type": "markdown",
   "metadata": {},
   "source": [
    "```TS\n",
    "function configureStore<\n",
    "  S = any, \n",
    "  A extends Action = AnyAction\n",
    ">\n",
    "(\n",
    "  options: ConfigureStoreOptions<S, A>\n",
    "): EnhancedStore<S, A>\n",
    "```\n"
   ]
  },
  {
   "attachments": {},
   "cell_type": "markdown",
   "metadata": {},
   "source": [
    "---\n",
    "# Utils\n",
    "\n",
    "<div style=\"color: #b58bf7; text-align: right; font-style: italic;\">\n",
    "Quotes.\n",
    "</div>"
   ]
  },
  {
   "cell_type": "markdown",
   "metadata": {},
   "source": []
  }
 ],
 "metadata": {
  "language_info": {
   "name": "python"
  },
  "orig_nbformat": 4
 },
 "nbformat": 4,
 "nbformat_minor": 2
}
