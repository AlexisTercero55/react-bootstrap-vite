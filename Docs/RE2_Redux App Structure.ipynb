{
 "cells": [
  {
   "attachments": {},
   "cell_type": "markdown",
   "metadata": {},
   "source": [
    "# <span style=\"color: #b58bf7;\"> Creating the Redux Store </span>"
   ]
  },
  {
   "attachments": {},
   "cell_type": "markdown",
   "metadata": {},
   "source": [
    "## <span style=\"color: #b58bf7;\"> Intro </span>"
   ]
  },
  {
   "attachments": {},
   "cell_type": "markdown",
   "metadata": {},
   "source": [
    "The Redux store is created using the ``configureStore`` function from Redux Toolkit. ``configureStore`` requires that we pass in a ``reducer`` argument."
   ]
  },
  {
   "cell_type": "code",
   "execution_count": null,
   "metadata": {
    "vscode": {
     "languageId": "javascript"
    }
   },
   "outputs": [],
   "source": [
    "import { configureStore } from '@reduxjs/toolkit'\n",
    "import counterReducer from '../features/counter/counterSlice'\n",
    "\n",
    "/**\n",
    " * configureStore({}) wraps createStore \n",
    " * to provide simplified configuration options \n",
    " * and good defaults. It can automatically combine \n",
    " * your slice reducers, adds whatever \n",
    " * Redux middleware you supply, \n",
    " * includes redux-thunk by default, \n",
    " * and enables use of the \n",
    " * Redux DevTools Extension.\n",
    " */\n",
    "export default configureStore({\n",
    "  /**\n",
    "   * interface ConfigureStoreOptions<\n",
    "   *  S = any , \n",
    "   *  A extends Action = AnyAction  , \n",
    "   *  M extends Middlewares<S> = Middlewares<S> , \n",
    "   *  E extends Enhancers = Enhancers\n",
    "   * >{\n",
    "   *  reducer: Reducer<S, A> | ReducersMapObject<S, A>,\n",
    "   *  middleware?: ((getDefaultMiddleware: CurriedGetDefaultMiddleware<S>) => M) | M;\n",
    "   *  devTools?: boolean | DevToolsOptions,\n",
    "   *  preloadedState?: PreloadedState<CombinedState<NoInfer<S>>>,\n",
    "   *  enhancers?: E | ConfigureEnhancersCallback<E>\n",
    "   * }\n",
    "   */\n",
    "  reducer: {\n",
    "    domainFeature: sliceFeature\n",
    "  },\n",
    "\n",
    "  devTools: true,\n",
    "})"
   ]
  },
  {
   "attachments": {},
   "cell_type": "markdown",
   "metadata": {},
   "source": [
    "Our application might be made up of many different features, and each of those features might have its own reducer function (object factory function `() => {return {}} `). When we call ``configureStore``, we can pass in all of the different reducers in an object. The key names in the object will define the keys in our final state value."
   ]
  },
  {
   "attachments": {},
   "cell_type": "markdown",
   "metadata": {},
   "source": [
    "> We have a file named ``features/counter/counterSlice.js`` that exports a reducer function for the counter logic. We can import that ``counterReducer`` function here, and include it when we create the store.\n",
    "\n",
    ">   When we pass in an object like ``{counter: counterReducer}``, that says that we want to have a ``state.counter`` section of our Redux state object, and that we want the ``counterReducer`` function to be in charge of deciding if and how to update the ``state.counter`` section whenever an action is dispatched."
   ]
  },
  {
   "attachments": {},
   "cell_type": "markdown",
   "metadata": {},
   "source": [
    "Redux allows store setup to be customized with different kinds of plugins (\"*middleware*\" and \"*enhancers*\"). ``configureStore`` automatically adds several middleware to the store setup by default to provide a good developer experience, and also sets up the store so that the Redux DevTools Extension can inspect its contents."
   ]
  },
  {
   "attachments": {},
   "cell_type": "markdown",
   "metadata": {},
   "source": [
    "## <span style=\"color: #b58bf7;\"> Reducers and State Structure </span>"
   ]
  },
  {
   "attachments": {},
   "cell_type": "markdown",
   "metadata": {},
   "source": [
    "A **Redux store** **needs** to have a single \"**root reducer**\" function passed in when it's created. \n",
    "\n",
    "If we have **many different slice reducer** functions, **how do we get a single root reducer instead**, and how does this define the contents of the Redux store state?"
   ]
  },
  {
   "attachments": {},
   "cell_type": "markdown",
   "metadata": {},
   "source": [
    "### <span style=\"color: #b58bf7;\"> ``combineReducers`` </span>"
   ]
  },
  {
   "attachments": {},
   "cell_type": "markdown",
   "metadata": {},
   "source": [
    "Redux has a function called ``combineReducers`` that does this for us automatically. It accepts an object full of slice reducers as its argument, and returns a function that calls each slice reducer whenever an action is dispatched. The result from each slice reducer are all combined together into a single object as the final result. We can do the same thing as the previous example using ``combineReducers``:"
   ]
  },
  {
   "cell_type": "code",
   "execution_count": null,
   "metadata": {
    "vscode": {
     "languageId": "javascript"
    }
   },
   "outputs": [],
   "source": [
    "const rootReducer = combineReducers({\n",
    "    users: usersReducer,\n",
    "    posts: postsReducer,\n",
    "    comments: commentsReducer\n",
    "})"
   ]
  },
  {
   "cell_type": "markdown",
   "metadata": {},
   "source": [
    "## <span style=\"color: #b58bf7;\"> Redux Slices </span>"
   ]
  },
  {
   "attachments": {},
   "cell_type": "markdown",
   "metadata": {},
   "source": [
    "A \"slice\" is a **collection of Redux reducer logic and actions for a single feature in your app**, typically defined together in a single file. The name comes from **splitting up the root Redux state object into multiple \"slices\" of state**."
   ]
  },
  {
   "cell_type": "code",
   "execution_count": null,
   "metadata": {
    "vscode": {
     "languageId": "javascript"
    }
   },
   "outputs": [],
   "source": [
    "import { configureStore } from '@reduxjs/toolkit'\n",
    "import usersReducer from '../features/users/usersSlice'\n",
    "import postsReducer from '../features/posts/postsSlice'\n",
    "import commentsReducer from '../features/comments/commentsSlice'\n",
    "\n",
    "export default configureStore({\n",
    "  reducer: {\n",
    "    users: usersReducer,\n",
    "    posts: postsReducer,\n",
    "    comments: commentsReducer\n",
    "  }\n",
    "})"
   ]
  },
  {
   "attachments": {},
   "cell_type": "markdown",
   "metadata": {},
   "source": [
    "## <span style=\"color: #b58bf7;\"> Creating Slice Reducers and Actions </span>"
   ]
  },
  {
   "attachments": {},
   "cell_type": "markdown",
   "metadata": {},
   "source": [
    "> Since we know that the ``counterReducer`` function is coming from ``features/counter/counterSlice.js``"
   ]
  },
  {
   "cell_type": "code",
   "execution_count": null,
   "metadata": {
    "vscode": {
     "languageId": "javascript"
    }
   },
   "outputs": [],
   "source": [
    "import { createSlice } from '@reduxjs/toolkit'\n",
    "\n",
    "export const counterSlice = createSlice({\n",
    "  name: 'counter',\n",
    "  initialState: {\n",
    "    value: 0\n",
    "  },\n",
    "  reducers: {\n",
    "    increment: state => {\n",
    "      // Redux Toolkit allows us to write \"mutating\" logic in reducers. It\n",
    "      // doesn't actually mutate the state because it uses the immer library,\n",
    "      // which detects changes to a \"draft state\" and produces a brand new\n",
    "      // immutable state based off those changes\n",
    "      state.value += 1\n",
    "    },\n",
    "    decrement: state => {\n",
    "      state.value -= 1\n",
    "    },\n",
    "    incrementByAmount: (state, action) => {\n",
    "      state.value += action.payload\n",
    "    }\n",
    "  }\n",
    "})\n",
    "\n",
    "export const { increment, decrement, incrementByAmount } = counterSlice.actions\n",
    "\n",
    "export default counterSlice.reducer"
   ]
  },
  {
   "attachments": {},
   "cell_type": "markdown",
   "metadata": {},
   "source": [
    "> Redux Toolkit has a function called ``createSlice``, which takes care of the work of generating action type strings, action creator functions, and action objects. All you have to do is define a name for this slice, write an object that has some reducer functions in it, and it generates the corresponding action code automatically. The string from the name option is used as the first part of each action type, and the key ``name`` of each reducer function is used as the second part. So, the \"``counter``\" name + the \"``increment``\" reducer function generated an action type of ``{type: \"counter/increment\"}``. (After all, why write this by hand if the computer can do it for us!)\n",
    "\n",
    "> In addition to the name field, createSlice needs us to pass in the initial state value for the reducers, so that there is a state the first time it gets called. In this case, we're providing an object with a value field that starts off at 0.\n",
    "\n",
    "> createSlice automatically generates action creators with the same names as the reducer functions we wrote. We can check that by calling one of them and seeing what it returns:"
   ]
  },
  {
   "cell_type": "code",
   "execution_count": null,
   "metadata": {
    "vscode": {
     "languageId": "javascript"
    }
   },
   "outputs": [],
   "source": [
    "console.log(counterSlice.actions.increment())\n",
    "// {type: \"counter/increment\"}"
   ]
  },
  {
   "attachments": {},
   "cell_type": "markdown",
   "metadata": {},
   "source": [
    "> It also generates the slice reducer function that knows how to respond to all these action types:\n",
    "\n"
   ]
  },
  {
   "cell_type": "code",
   "execution_count": null,
   "metadata": {
    "vscode": {
     "languageId": "javascript"
    }
   },
   "outputs": [],
   "source": [
    "const newState = counterSlice.reducer(\n",
    "  { value: 10 },\n",
    "  counterSlice.actions.increment()\n",
    ")\n",
    "console.log(newState)\n",
    "// {value: 11}"
   ]
  },
  {
   "attachments": {},
   "cell_type": "markdown",
   "metadata": {},
   "source": [
    "## <span style=\"color: #b58bf7;\"> Writing Async Logic with Thunks </span>"
   ]
  },
  {
   "cell_type": "markdown",
   "metadata": {},
   "source": []
  }
 ],
 "metadata": {
  "language_info": {
   "name": "python"
  },
  "orig_nbformat": 4
 },
 "nbformat": 4,
 "nbformat_minor": 2
}
