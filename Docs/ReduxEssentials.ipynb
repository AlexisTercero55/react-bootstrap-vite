{
 "cells": [
  {
   "attachments": {},
   "cell_type": "markdown",
   "metadata": {},
   "source": [
    "# <span style=\"color: #b58bf7;\"> What is Redux? </span>"
   ]
  },
  {
   "attachments": {},
   "cell_type": "markdown",
   "metadata": {},
   "source": [
    "<div style=\"color: #b58bf7; text-align: right; font-style: italic;\">\n",
    "Redux is a pattern and library for managing and updating application state, using events called \"actions\".\n",
    "</div>\n",
    "<br/>\n",
    "<div style=\"color: #b58bf7; text-align: right; font-style: italic;\">\n",
    "It serves as a centralized store for state that needs to be used across your entire application, with rules ensuring that the state can only be updated in a predictable fashion.\n",
    "</div>"
   ]
  },
  {
   "attachments": {},
   "cell_type": "markdown",
   "metadata": {},
   "source": [
    "## <span style=\"color: #b58bf7;\"> Why & When Should I Use Redux? </span>"
   ]
  },
  {
   "attachments": {},
   "cell_type": "markdown",
   "metadata": {},
   "source": [
    "<div style=\"color: #b58bf7; text-align: right; font-style: italic;\">\n",
    "Redux helps you manage \"global\" state - state that is needed across many parts of your application.\n",
    "</div>\n",
    "<br/>\n",
    "<div style=\"color: #b58bf7; text-align: right; font-style: italic;\">\n",
    "The patterns and tools provided by Redux make it easier to understand when, where, why, and how the state in your application is being updated, and how your application logic will behave when those changes occur. Redux guides you towards writing code that is predictable and testable, which helps give you confidence that your application will work as expected.\n",
    "</div>\n",
    "\n",
    "* Dealing with shared state management.\n",
    "* Having large amounts of application state that are needed in many places in the app.\n",
    "* The app state is updated frequently over time.\n",
    "* The logic to update that state may be complex.\n",
    "* The app has a medium or large-sized codebase, and might be worked on by many people.\n"
   ]
  },
  {
   "attachments": {},
   "cell_type": "markdown",
   "metadata": {},
   "source": [
    "# <span style=\"color: #b58bf7;\"> Redux Terms and Concepts </span>"
   ]
  },
  {
   "attachments": {},
   "cell_type": "markdown",
   "metadata": {},
   "source": [
    "## <span style=\"color: #b58bf7;\"> Before Redux - {State, View, Actions} </span>"
   ]
  },
  {
   "attachments": {},
   "cell_type": "markdown",
   "metadata": {},
   "source": [
    "### <span style=\"color: #b58bf7;\"> Look at this React self containd app: </span>\n"
   ]
  },
  {
   "cell_type": "code",
   "execution_count": null,
   "metadata": {},
   "outputs": [],
   "source": [
    "function Counter() {\n",
    "    // State: a counter value\n",
    "    const [counter, setCounter] = useState(0)\n",
    "  \n",
    "    // Action: code that causes an update to the state when something happens\n",
    "    const increment = () => {\n",
    "      setCounter(prevCounter => prevCounter + 1)\n",
    "    }\n",
    "  \n",
    "    // View: the UI definition\n",
    "    return (\n",
    "      <div>\n",
    "        Value: {counter} <button onClick={increment}>Increment</button>\n",
    "      </div>\n",
    "    )\n",
    "  }"
   ]
  },
  {
   "attachments": {},
   "cell_type": "markdown",
   "metadata": {},
   "source": [
    "Counter app is build by the following components:\n",
    "* The **state**, the source of truth that drives our app;\n",
    "* The **view**, a declarative description of the UI based on the current state\n",
    "* The **actions**, the events that occur in the app based on user input, and trigger updates in the state"
   ]
  },
  {
   "attachments": {},
   "cell_type": "markdown",
   "metadata": {},
   "source": [
    "### <span style=\"color: #b58bf7;\"> one-way data flow </span>"
   ]
  },
  {
   "attachments": {},
   "cell_type": "markdown",
   "metadata": {},
   "source": [
    "Each component of Counter app is integrated into a single logic that processes the data:\n",
    "\n",
    "* State describes the condition of the app at a specific point in time\n",
    "* The UI is rendered based on that state\n",
    "* When something happens (such as a user clicking a button), the state is updated based on what occurred\n",
    "* The UI re-renders based on the new state"
   ]
  },
  {
   "attachments": {},
   "cell_type": "markdown",
   "metadata": {},
   "source": [
    "![Alt text](assets/redux/one-way-data-flow.png)"
   ]
  },
  {
   "attachments": {},
   "cell_type": "markdown",
   "metadata": {},
   "source": [
    "### <span style=\"color: #b58bf7;\"> Multiple components + different location + same state = ERROR </span>"
   ]
  },
  {
   "attachments": {},
   "cell_type": "markdown",
   "metadata": {},
   "source": [
    "<div style=\"color: #b58bf7; text-align: right; font-style: italic;\">\n",
    "However, the simplicity can break down when we have multiple components that need to share and use the same state, especially if those components are located in different parts of the application. Sometimes this can be solved by \"lifting state up\" to parent components, but that doesn't always help.\n",
    "</div>"
   ]
  },
  {
   "attachments": {},
   "cell_type": "markdown",
   "metadata": {},
   "source": [
    "### <span style=\"color: #b58bf7;\"> Solution: shared and centralized state </span>"
   ]
  },
  {
   "attachments": {},
   "cell_type": "markdown",
   "metadata": {},
   "source": [
    "<div style=\"color: #b58bf7; text-align: right; font-style: italic;\">\n",
    "One way to solve this is to extract the shared state from the components, and put it into a centralized location outside the component tree. With this, our component tree becomes a big \"view\", and any component can access the state or trigger actions, no matter where they are in the tree!\n",
    "</div>"
   ]
  },
  {
   "attachments": {},
   "cell_type": "markdown",
   "metadata": {},
   "source": [
    "<div style=\"color: #b58bf7; text-align: right; font-style: italic;\">\n",
    "By defining and separating the concepts involved in state management and enforcing rules that maintain independence between views and states, we give our code more structure and maintainability.\n",
    "</div>"
   ]
  },
  {
   "attachments": {},
   "cell_type": "markdown",
   "metadata": {},
   "source": [
    "## <span style=\"color: #b58bf7;\"> Redux centralized state solution </span>"
   ]
  },
  {
   "attachments": {},
   "cell_type": "markdown",
   "metadata": {},
   "source": [
    "<div style=\"color: #b58bf7; text-align: right; font-style: italic;\">\n",
    "This is the basic idea behind Redux: a single centralized place to contain the global state in your application, and specific patterns to follow when updating that state to make the code predictable.\n",
    "</div>"
   ]
  },
  {
   "attachments": {},
   "cell_type": "markdown",
   "metadata": {},
   "source": [
    "### <span style=\"color: #b58bf7;\"> Immutability </span>"
   ]
  },
  {
   "attachments": {},
   "cell_type": "markdown",
   "metadata": {},
   "source": [
    "**Redux expects that all state updates are done immutably.**"
   ]
  },
  {
   "attachments": {},
   "cell_type": "markdown",
   "metadata": {},
   "source": [
    "### <span style=\"color: #b58bf7;\"> Actions </span>"
   ]
  },
  {
   "attachments": {},
   "cell_type": "markdown",
   "metadata": {},
   "source": [
    "An **action** is a plain JavaScript object that has a ``type`` field. **You can think of an action as an event that describes something that happened in the application**."
   ]
  },
  {
   "attachments": {},
   "cell_type": "markdown",
   "metadata": {},
   "source": [
    "The ``type`` field should be a string that gives this action a descriptive name, like ``\"todos/todoAdded\"``. We usually write that type string like ``\"domain/eventName\"``, where the first part is the feature or category that this action belongs to, and the second part is the specific thing that happened."
   ]
  },
  {
   "attachments": {},
   "cell_type": "markdown",
   "metadata": {},
   "source": [
    "An action object can have other fields with additional **information about what happened**. By convention, we put that information in a field called ``payload``."
   ]
  },
  {
   "attachments": {},
   "cell_type": "markdown",
   "metadata": {},
   "source": [
    "#### <span style=\"color: #b58bf7;\"> Typical action </span>"
   ]
  },
  {
   "cell_type": "code",
   "execution_count": null,
   "metadata": {},
   "outputs": [],
   "source": [
    "const acction_n = {\n",
    "    type: 'domain/eventName',\n",
    "    payload: 'event descrption'\n",
    "}"
   ]
  },
  {
   "attachments": {},
   "cell_type": "markdown",
   "metadata": {},
   "source": [
    "#### <span style=\"color: #b58bf7;\"> Action creators (factory functions) </span>"
   ]
  },
  {
   "cell_type": "code",
   "execution_count": null,
   "metadata": {},
   "outputs": [],
   "source": [
    "const addTodo = text => {\n",
    "    return {\n",
    "      type: 'todos/todoAdded',\n",
    "      payload: text\n",
    "    }\n",
    "}"
   ]
  },
  {
   "attachments": {},
   "cell_type": "markdown",
   "metadata": {},
   "source": [
    "### <span style=\"color: #b58bf7;\"> Reducers </span>"
   ]
  },
  {
   "attachments": {},
   "cell_type": "markdown",
   "metadata": {},
   "source": [
    "A **reducer** is a function that receives the current ``state`` and an ``action`` object. Decides how to update the state if necessary, and returns the new state: \n",
    "\n",
    "``(state, action) => newState``\n",
    "\n",
    "**You can think of a reducer as an event listener which handles events based on the received action (event) type.**"
   ]
  },
  {
   "attachments": {},
   "cell_type": "markdown",
   "metadata": {},
   "source": [
    "#### <span style=\"color: #b58bf7;\"> Reducers rules </span>"
   ]
  },
  {
   "attachments": {},
   "cell_type": "markdown",
   "metadata": {},
   "source": [
    "* They should only calculate the new ``state`` value based on the state and ``action`` arguments.\n",
    "* They are not allowed to *modify* the existing ``state``. Instead, they must make *immutable updates*, by **copying** the existing **state** and making changes to the copied values.\n",
    "* They must not do any asynchronous logic, calculate random values, or cause other \"*side effects*\".\n"
   ]
  },
  {
   "attachments": {},
   "cell_type": "markdown",
   "metadata": {},
   "source": [
    "#### <span style=\"color: #b58bf7;\"> Logic inside reducer </span>"
   ]
  },
  {
   "attachments": {},
   "cell_type": "markdown",
   "metadata": {},
   "source": [
    "* Check to see if the reducer cares about this action\n",
    "    * If so, make a copy of the state, update the copy with new values, and return it\n",
    "* Otherwise, return the existing state unchanged\n",
    "\n",
    "\n",
    "a **reducer**, showing the steps that each reducer should follow:"
   ]
  },
  {
   "cell_type": "code",
   "execution_count": null,
   "metadata": {},
   "outputs": [],
   "source": [
    "const initialState = { value: 0 }//state\n",
    "\n",
    "function counterReducer(state = initialState, action) \n",
    "{\n",
    "  // Check to see if the reducer cares about this action\n",
    "  if (action.type === 'counter/increment') \n",
    "  {\n",
    "    // If so, make a copy of `state`\n",
    "    return {\n",
    "      ...state,// inmutable state\n",
    "      // and update the copy with the new value\n",
    "      value: state.value + 1\n",
    "    }\n",
    "  }\n",
    "  // otherwise return the existing state unchanged\n",
    "  return state\n",
    "}"
   ]
  },
  {
   "attachments": {},
   "cell_type": "markdown",
   "metadata": {},
   "source": [
    "### <span style=\"color: #b58bf7;\"> Store </span>"
   ]
  },
  {
   "attachments": {},
   "cell_type": "markdown",
   "metadata": {},
   "source": [
    "The current Redux application state lives in an object called the **store** .\n",
    "\n",
    "The store is created by passing in a reducer, and has a method called ``getState`` that returns the current state value:"
   ]
  },
  {
   "cell_type": "code",
   "execution_count": null,
   "metadata": {},
   "outputs": [],
   "source": [
    "import { configureStore } from '@reduxjs/toolkit'\n",
    "\n",
    "const store = configureStore({ reducer: counterReducer })\n",
    "\n",
    "console.log(store.getState())\n",
    "// {value: 0}"
   ]
  },
  {
   "attachments": {},
   "cell_type": "markdown",
   "metadata": {},
   "source": [
    "### <span style=\"color: #b58bf7;\"> Dispatch (triggering envents) </span>"
   ]
  },
  {
   "attachments": {},
   "cell_type": "markdown",
   "metadata": {},
   "source": [
    "The Redux store has a method called ``dispatch``. The only way **to update the state** is to call ``store.dispatch()`` and **pass in an ``action`` object**. The store will run its reducer function and save the new state value inside, and we can call ``getState()`` to retrieve the updated value:"
   ]
  },
  {
   "cell_type": "code",
   "execution_count": null,
   "metadata": {},
   "outputs": [],
   "source": [
    "store.dispatch({ type: 'counter/increment' })\n",
    "\n",
    "console.log(store.getState())\n",
    "// {value: 1}"
   ]
  },
  {
   "attachments": {},
   "cell_type": "markdown",
   "metadata": {},
   "source": [
    "You can think of dispatching actions as \"triggering an event\" in the application. Something happened, and we want the store to know about it. Reducers act like event listeners, and when they hear an action they are interested in, they update the state in response."
   ]
  },
  {
   "attachments": {},
   "cell_type": "markdown",
   "metadata": {},
   "source": [
    "#### <span style=\"color: #b58bf7;\"> Dispatching actions with factories </span>"
   ]
  },
  {
   "cell_type": "code",
   "execution_count": null,
   "metadata": {},
   "outputs": [],
   "source": [
    "const increment = () => {\n",
    "  return {\n",
    "    type: 'counter/increment'\n",
    "  }\n",
    "}\n",
    "\n",
    "store.dispatch(increment())\n",
    "\n",
    "console.log(store.getState())\n",
    "// {value: 2}"
   ]
  },
  {
   "attachments": {},
   "cell_type": "markdown",
   "metadata": {},
   "source": [
    "### <span style=\"color: #b58bf7;\"> Selectors </span>"
   ]
  },
  {
   "attachments": {},
   "cell_type": "markdown",
   "metadata": {},
   "source": [
    "Selectors are functions that know how **to extract specific** pieces of **information** **from a store state value**. As an application grows bigger, this can help **avoid repeating logic** as different parts of the app need to read the same data:"
   ]
  },
  {
   "cell_type": "code",
   "execution_count": null,
   "metadata": {},
   "outputs": [],
   "source": [
    "const selectCounterValue = state => state.value\n",
    "\n",
    "const currentValue = selectCounterValue(store.getState())\n",
    "console.log(currentValue)\n",
    "// 2"
   ]
  },
  {
   "attachments": {},
   "cell_type": "markdown",
   "metadata": {},
   "source": [
    "# <span style=\"color: #b58bf7;\"> Redux Application Data Flow </span>"
   ]
  },
  {
   "attachments": {},
   "cell_type": "markdown",
   "metadata": {},
   "source": [
    "## <span style=\"color: #b58bf7;\"> Sequence of steps to update the app </span>"
   ]
  },
  {
   "attachments": {},
   "cell_type": "markdown",
   "metadata": {},
   "source": [
    "* State describes the **condition** of the app at a **specific** point in **time**\n",
    "* The **UI** is **rendered** **based on that state**\n",
    "* When **something happens** (such as a user clicking a button), the **state is updated** based on what occurred\n",
    "The **UI re-renders** based **on the new state**."
   ]
  },
  {
   "attachments": {},
   "cell_type": "markdown",
   "metadata": {},
   "source": [
    "## <span style=\"color: #b58bf7;\"> Steps into more detail </span>"
   ]
  },
  {
   "attachments": {},
   "cell_type": "markdown",
   "metadata": {},
   "source": [
    "### <span style=\"color: #b58bf7;\"> Initial setup </span>"
   ]
  },
  {
   "attachments": {},
   "cell_type": "markdown",
   "metadata": {},
   "source": [
    "* A Redux ``store`` is created using a ``root reducer function``.\n",
    "* The ``store`` calls the ``root reducer`` once, and saves the return value as its initial ``state``.\n",
    "* When the UI is **first rendered**, UI components **access** the **current state of the Redux store**, and **use** that **data** to **decide** **what to render**. \n",
    "* They also **subscribe** to **any future store updates** so they can know if the state has changed.\n"
   ]
  },
  {
   "attachments": {},
   "cell_type": "markdown",
   "metadata": {},
   "source": [
    "### <span style=\"color: #b58bf7;\"> Updates </span>"
   ]
  },
  {
   "attachments": {},
   "cell_type": "markdown",
   "metadata": {},
   "source": [
    "* Something happens in the app, such as a user clicking a button.\n",
    "* The app code **dispatches** an action to the Redux store, like ``dispatch({type: 'counter/increment'})``.\n",
    "* The ``store`` runs the reducer function again with the **previous** ``state`` and the current ``action``, and saves the return value as the ``new state``.\n",
    "* The store notifies all parts of the UI that are subscribed that the store has been updated.\n",
    "* Each UI component that needs data from the store checks to see if the parts of the state they need have changed.\n",
    "* Each component that sees its data has changed forces a re-render with the new data, so it can update what's shown on the screen."
   ]
  },
  {
   "attachments": {},
   "cell_type": "markdown",
   "metadata": {},
   "source": [
    "### <span style=\"color: #b58bf7;\"> Flow diagram </span>"
   ]
  },
  {
   "attachments": {},
   "cell_type": "markdown",
   "metadata": {},
   "source": [
    "![Alt text](assets/redux/reduxdataflowdiagram.gif)"
   ]
  },
  {
   "cell_type": "markdown",
   "metadata": {},
   "source": []
  }
 ],
 "metadata": {
  "kernelspec": {
   "display_name": "JavaScript (Node.js)",
   "language": "javascript",
   "name": "javascript"
  },
  "language_info": {
   "name": "javascript"
  },
  "orig_nbformat": 4
 },
 "nbformat": 4,
 "nbformat_minor": 2
}
