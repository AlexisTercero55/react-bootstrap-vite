{
 "cells": [
  {
   "attachments": {},
   "cell_type": "markdown",
   "metadata": {},
   "source": [
    "# <span style=\"color: #b58bf7;\"> What is Redux? </span>"
   ]
  },
  {
   "attachments": {},
   "cell_type": "markdown",
   "metadata": {},
   "source": [
    "<div style=\"color: #b58bf7; text-align: right; font-style: italic;\">\n",
    "Redux is a pattern and library for managing and updating application state, using events called \"actions\".\n",
    "</div>\n",
    "<br/>\n",
    "<div style=\"color: #b58bf7; text-align: right; font-style: italic;\">\n",
    "It serves as a centralized store for state that needs to be used across your entire application, with rules ensuring that the state can only be updated in a predictable fashion.\n",
    "</div>"
   ]
  },
  {
   "attachments": {},
   "cell_type": "markdown",
   "metadata": {},
   "source": [
    "## <span style=\"color: #b58bf7;\"> Why & When Should I Use Redux? </span>"
   ]
  },
  {
   "attachments": {},
   "cell_type": "markdown",
   "metadata": {},
   "source": [
    "<div style=\"color: #b58bf7; text-align: right; font-style: italic;\">\n",
    "Redux helps you manage \"global\" state - state that is needed across many parts of your application.\n",
    "</div>\n",
    "<br/>\n",
    "<div style=\"color: #b58bf7; text-align: right; font-style: italic;\">\n",
    "The patterns and tools provided by Redux make it easier to understand when, where, why, and how the state in your application is being updated, and how your application logic will behave when those changes occur. Redux guides you towards writing code that is predictable and testable, which helps give you confidence that your application will work as expected.\n",
    "</div>\n",
    "\n",
    "* Dealing with shared state management.\n",
    "* Having large amounts of application state that are needed in many places in the app.\n",
    "* The app state is updated frequently over time.\n",
    "* The logic to update that state may be complex.\n",
    "* The app has a medium or large-sized codebase, and might be worked on by many people.\n"
   ]
  },
  {
   "attachments": {},
   "cell_type": "markdown",
   "metadata": {},
   "source": [
    "# <span style=\"color: #b58bf7;\"> Redux Terms and Concepts </span>"
   ]
  },
  {
   "attachments": {},
   "cell_type": "markdown",
   "metadata": {},
   "source": [
    "## <span style=\"color: #b58bf7;\"> Before Redux - {State, View, Actions} </span>"
   ]
  },
  {
   "attachments": {},
   "cell_type": "markdown",
   "metadata": {},
   "source": [
    "### <span style=\"color: #b58bf7;\"> Look at this React self containd app: </span>\n"
   ]
  },
  {
   "cell_type": "code",
   "execution_count": null,
   "metadata": {
    "vscode": {
     "languageId": "javascript"
    }
   },
   "outputs": [],
   "source": [
    "function Counter() {\n",
    "    // State: a counter value\n",
    "    const [counter, setCounter] = useState(0)\n",
    "  \n",
    "    // Action: code that causes an update to the state when something happens\n",
    "    const increment = () => {\n",
    "      setCounter(prevCounter => prevCounter + 1)\n",
    "    }\n",
    "  \n",
    "    // View: the UI definition\n",
    "    return (\n",
    "      <div>\n",
    "        Value: {counter} <button onClick={increment}>Increment</button>\n",
    "      </div>\n",
    "    )\n",
    "  }"
   ]
  },
  {
   "attachments": {},
   "cell_type": "markdown",
   "metadata": {},
   "source": [
    "Counter app is build by the following components:\n",
    "* The **state**, the source of truth that drives our app;\n",
    "* The **view**, a declarative description of the UI based on the current state\n",
    "* The **actions**, the events that occur in the app based on user input, and trigger updates in the state"
   ]
  },
  {
   "attachments": {},
   "cell_type": "markdown",
   "metadata": {},
   "source": [
    "### <span style=\"color: #b58bf7;\"> one-way data flow </span>"
   ]
  },
  {
   "attachments": {},
   "cell_type": "markdown",
   "metadata": {},
   "source": [
    "Each component of Counter app is integrated into a single logic that processes the data:\n",
    "\n",
    "* State describes the condition of the app at a specific point in time\n",
    "* The UI is rendered based on that state\n",
    "* When something happens (such as a user clicking a button), the state is updated based on what occurred\n",
    "* The UI re-renders based on the new state"
   ]
  },
  {
   "attachments": {},
   "cell_type": "markdown",
   "metadata": {},
   "source": [
    "![Alt text](assets/redux/one-way-data-flow.png)"
   ]
  },
  {
   "attachments": {},
   "cell_type": "markdown",
   "metadata": {},
   "source": [
    "### <span style=\"color: #b58bf7;\"> Multiple components + different location + same state = ERROR </span>"
   ]
  },
  {
   "attachments": {},
   "cell_type": "markdown",
   "metadata": {},
   "source": [
    "<div style=\"color: #b58bf7; text-align: right; font-style: italic;\">\n",
    "However, the simplicity can break down when we have multiple components that need to share and use the same state, especially if those components are located in different parts of the application. Sometimes this can be solved by \"lifting state up\" to parent components, but that doesn't always help.\n",
    "</div>"
   ]
  },
  {
   "attachments": {},
   "cell_type": "markdown",
   "metadata": {},
   "source": [
    "### <span style=\"color: #b58bf7;\"> Solution: shared and centralized state </span>"
   ]
  },
  {
   "attachments": {},
   "cell_type": "markdown",
   "metadata": {},
   "source": [
    "<div style=\"color: #b58bf7; text-align: right; font-style: italic;\">\n",
    "One way to solve this is to extract the shared state from the components, and put it into a centralized location outside the component tree. With this, our component tree becomes a big \"view\", and any component can access the state or trigger actions, no matter where they are in the tree!\n",
    "</div>"
   ]
  },
  {
   "attachments": {},
   "cell_type": "markdown",
   "metadata": {},
   "source": [
    "<div style=\"color: #b58bf7; text-align: right; font-style: italic;\">\n",
    "By defining and separating the concepts involved in state management and enforcing rules that maintain independence between views and states, we give our code more structure and maintainability.\n",
    "</div>"
   ]
  },
  {
   "attachments": {},
   "cell_type": "markdown",
   "metadata": {},
   "source": [
    "## <span style=\"color: #b58bf7;\"> Redux centralized state solution </span>"
   ]
  },
  {
   "attachments": {},
   "cell_type": "markdown",
   "metadata": {},
   "source": [
    "<div style=\"color: #b58bf7; text-align: right; font-style: italic;\">\n",
    "This is the basic idea behind Redux: a single centralized place to contain the global state in your application, and specific patterns to follow when updating that state to make the code predictable.\n",
    "</div>"
   ]
  },
  {
   "attachments": {},
   "cell_type": "markdown",
   "metadata": {},
   "source": [
    "### <span style=\"color: #b58bf7;\"> Immutability </span>"
   ]
  },
  {
   "attachments": {},
   "cell_type": "markdown",
   "metadata": {},
   "source": [
    "**Redux expects that all state updates are done immutably.**"
   ]
  },
  {
   "attachments": {},
   "cell_type": "markdown",
   "metadata": {},
   "source": [
    "### <span style=\"color: #b58bf7;\"> Actions </span>"
   ]
  },
  {
   "attachments": {},
   "cell_type": "markdown",
   "metadata": {},
   "source": [
    "An **action** is a plain JavaScript object that has a ``type`` field. **You can think of an action as an event that describes something that happened in the application**."
   ]
  },
  {
   "attachments": {},
   "cell_type": "markdown",
   "metadata": {},
   "source": [
    "The ``type`` field should be a string that gives this action a descriptive name, like ``\"todos/todoAdded\"``. We usually write that type string like ``\"domain/eventName\"``, where the first part is the feature or category that this action belongs to, and the second part is the specific thing that happened."
   ]
  },
  {
   "attachments": {},
   "cell_type": "markdown",
   "metadata": {},
   "source": [
    "An action object can have other fields with additional **information about what happened**. By convention, we put that information in a field called ``payload``."
   ]
  },
  {
   "cell_type": "markdown",
   "metadata": {},
   "source": []
  }
 ],
 "metadata": {
  "language_info": {
   "name": "python"
  },
  "orig_nbformat": 4
 },
 "nbformat": 4,
 "nbformat_minor": 2
}
